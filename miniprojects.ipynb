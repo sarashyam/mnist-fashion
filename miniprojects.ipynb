{
  "nbformat": 4,
  "nbformat_minor": 0,
  "metadata": {
    "colab": {
      "provenance": [],
      "authorship_tag": "ABX9TyP6vcW2wUfcUJeFq+34JZe4",
      "include_colab_link": true
    },
    "kernelspec": {
      "name": "python3",
      "display_name": "Python 3"
    },
    "language_info": {
      "name": "python"
    }
  },
  "cells": [
    {
      "cell_type": "markdown",
      "metadata": {
        "id": "view-in-github",
        "colab_type": "text"
      },
      "source": [
        "<a href=\"https://colab.research.google.com/github/sarashyam/mnist-fashion/blob/main/miniprojects.ipynb\" target=\"_parent\"><img src=\"https://colab.research.google.com/assets/colab-badge.svg\" alt=\"Open In Colab\"/></a>"
      ]
    },
    {
      "cell_type": "code",
      "execution_count": 1,
      "metadata": {
        "colab": {
          "base_uri": "https://localhost:8080/",
          "height": 383
        },
        "id": "3I-jgV7FDyKB",
        "outputId": "93e8d1db-8b9e-46db-fc9d-5a35c3b73c93"
      },
      "outputs": [
        {
          "output_type": "error",
          "ename": "ModuleNotFoundError",
          "evalue": "ignored",
          "traceback": [
            "\u001b[0;31m---------------------------------------------------------------------------\u001b[0m",
            "\u001b[0;31mModuleNotFoundError\u001b[0m                       Traceback (most recent call last)",
            "\u001b[0;32m<ipython-input-1-782510bf47c7>\u001b[0m in \u001b[0;36m<cell line: 3>\u001b[0;34m()\u001b[0m\n\u001b[1;32m      1\u001b[0m \u001b[0;31m#Notifier\u001b[0m\u001b[0;34m\u001b[0m\u001b[0;34m\u001b[0m\u001b[0m\n\u001b[1;32m      2\u001b[0m \u001b[0;32mimport\u001b[0m \u001b[0mtime\u001b[0m\u001b[0;34m\u001b[0m\u001b[0;34m\u001b[0m\u001b[0m\n\u001b[0;32m----> 3\u001b[0;31m \u001b[0;32mfrom\u001b[0m \u001b[0mplyer\u001b[0m \u001b[0;32mimport\u001b[0m \u001b[0mnotification\u001b[0m\u001b[0;34m\u001b[0m\u001b[0;34m\u001b[0m\u001b[0m\n\u001b[0m\u001b[1;32m      4\u001b[0m \u001b[0;34m\u001b[0m\u001b[0m\n\u001b[1;32m      5\u001b[0m notification.notify(\n",
            "\u001b[0;31mModuleNotFoundError\u001b[0m: No module named 'plyer'",
            "",
            "\u001b[0;31m---------------------------------------------------------------------------\u001b[0;32m\nNOTE: If your import is failing due to a missing package, you can\nmanually install dependencies using either !pip or !apt.\n\nTo view examples of installing some common dependencies, click the\n\"Open Examples\" button below.\n\u001b[0;31m---------------------------------------------------------------------------\u001b[0m\n"
          ],
          "errorDetails": {
            "actions": [
              {
                "action": "open_url",
                "actionText": "Open Examples",
                "url": "/notebooks/snippets/importing_libraries.ipynb"
              }
            ]
          }
        }
      ],
      "source": [
        "#Notifier\n",
        "import time\n",
        "from plyer import notification\n",
        "\n",
        "notification.notify(\n",
        "    title = \"hum title hai\",\n",
        "\tmessage=\" hum message  hai bhai dekh lo.. \" ,\n",
        "\t timeout=5\n",
        ")\n",
        "\t\t# waiting time\n",
        "time.sleep(7)"
      ]
    },
    {
      "cell_type": "code",
      "source": [
        "# Tic-Tac-Toe Program using\n",
        "# random number in Python\n",
        "\n",
        "# importing all necessary libraries\n",
        "import numpy as np\n",
        "import random\n",
        "from time import sleep\n",
        "\n",
        "# Creates an empty board\n",
        "\n",
        "\n",
        "def create_board():\n",
        "\treturn(np.array([[0, 0, 0],\n",
        "\t\t\t\t\t[0, 0, 0],\n",
        "\t\t\t\t\t[0, 0, 0]]))\n",
        "\n",
        "# Check for empty places on board\n",
        "\n",
        "\n",
        "def possibilities(board):\n",
        "\tl = []\n",
        "\n",
        "\tfor i in range(len(board)):\n",
        "\t\tfor j in range(len(board)):\n",
        "\n",
        "\t\t\tif board[i][j] == 0:\n",
        "\t\t\t\tl.append((i, j))\n",
        "\treturn(l)\n",
        "\n",
        "# Select a random place for the player\n",
        "\n",
        "\n",
        "def random_place(board, player):\n",
        "\tselection = possibilities(board)\n",
        "\tcurrent_loc = random.choice(selection)\n",
        "\tboard[current_loc] = player\n",
        "\treturn(board)\n",
        "\n",
        "# Checks whether the player has three\n",
        "# of their marks in a horizontal row\n",
        "\n",
        "\n",
        "def row_win(board, player):\n",
        "\tfor x in range(len(board)):\n",
        "\t\twin = True\n",
        "\n",
        "\t\tfor y in range(len(board)):\n",
        "\t\t\tif board[x, y] != player:\n",
        "\t\t\t\twin = False\n",
        "\t\t\t\tcontinue\n",
        "\n",
        "\t\tif win == True:\n",
        "\t\t\treturn(win)\n",
        "\treturn(win)\n",
        "\n",
        "# Checks whether the player has three\n",
        "# of their marks in a vertical row\n",
        "\n",
        "\n",
        "def col_win(board, player):\n",
        "\tfor x in range(len(board)):\n",
        "\t\twin = True\n",
        "\n",
        "\t\tfor y in range(len(board)):\n",
        "\t\t\tif board[y][x] != player:\n",
        "\t\t\t\twin = False\n",
        "\t\t\t\tcontinue\n",
        "\n",
        "\t\tif win == True:\n",
        "\t\t\treturn(win)\n",
        "\treturn(win)\n",
        "\n",
        "# Checks whether the player has three\n",
        "# of their marks in a diagonal row\n",
        "\n",
        "\n",
        "def diag_win(board, player):\n",
        "\twin = True\n",
        "\ty = 0\n",
        "\tfor x in range(len(board)):\n",
        "\t\tif board[x, x] != player:\n",
        "\t\t\twin = False\n",
        "\tif win:\n",
        "\t\treturn win\n",
        "\twin = True\n",
        "\tif win:\n",
        "\t\tfor x in range(len(board)):\n",
        "\t\t\ty = len(board) - 1 - x\n",
        "\t\t\tif board[x, y] != player:\n",
        "\t\t\t\twin = False\n",
        "\treturn win\n",
        "\n",
        "# Evaluates whether there is\n",
        "# a winner or a tie\n",
        "\n",
        "\n",
        "def evaluate(board):\n",
        "\twinner = 0\n",
        "\n",
        "\tfor player in [1, 2]:\n",
        "\t\tif (row_win(board, player) or\n",
        "\t\t\t\tcol_win(board, player) or\n",
        "\t\t\t\tdiag_win(board, player)):\n",
        "\n",
        "\t\t\twinner = player\n",
        "\n",
        "\tif np.all(board != 0) and winner == 0:\n",
        "\t\twinner = -1\n",
        "\treturn winner\n",
        "\n",
        "# Main function to start the game\n",
        "\n",
        "\n",
        "def play_game():\n",
        "\tboard, winner, counter = create_board(), 0, 1\n",
        "\tprint(board)\n",
        "\tsleep(2)\n",
        "\n",
        "\twhile winner == 0:\n",
        "\t\tfor player in [1, 2]:\n",
        "\t\t\tboard = random_place(board, player)\n",
        "\t\t\tprint(\"Board after \" + str(counter) + \" move\")\n",
        "\t\t\tprint(board)\n",
        "\t\t\tsleep(2)\n",
        "\t\t\tcounter += 1\n",
        "\t\t\twinner = evaluate(board)\n",
        "\t\t\tif winner != 0:\n",
        "\t\t\t\tbreak\n",
        "\treturn(winner)\n",
        "\n",
        "\n",
        "# Driver Code\n",
        "print(\"Winner is: \" + str(play_game()))\n"
      ],
      "metadata": {
        "colab": {
          "base_uri": "https://localhost:8080/"
        },
        "id": "eSHdYTTLKmJq",
        "outputId": "6961921f-c7bd-4861-9823-92fd92aa42fd"
      },
      "execution_count": 2,
      "outputs": [
        {
          "output_type": "stream",
          "name": "stdout",
          "text": [
            "[[0 0 0]\n",
            " [0 0 0]\n",
            " [0 0 0]]\n",
            "Board after 1 move\n",
            "[[1 0 0]\n",
            " [0 0 0]\n",
            " [0 0 0]]\n",
            "Board after 2 move\n",
            "[[1 0 0]\n",
            " [0 0 2]\n",
            " [0 0 0]]\n",
            "Board after 3 move\n",
            "[[1 0 0]\n",
            " [0 0 2]\n",
            " [0 0 1]]\n",
            "Board after 4 move\n",
            "[[1 0 2]\n",
            " [0 0 2]\n",
            " [0 0 1]]\n",
            "Board after 5 move\n",
            "[[1 0 2]\n",
            " [1 0 2]\n",
            " [0 0 1]]\n",
            "Board after 6 move\n",
            "[[1 2 2]\n",
            " [1 0 2]\n",
            " [0 0 1]]\n",
            "Board after 7 move\n",
            "[[1 2 2]\n",
            " [1 1 2]\n",
            " [0 0 1]]\n",
            "Winner is: 1\n"
          ]
        }
      ]
    },
    {
      "cell_type": "code",
      "source": [
        "import time\n",
        "import plyer"
      ],
      "metadata": {
        "colab": {
          "base_uri": "https://localhost:8080/",
          "height": 331
        },
        "id": "0ikTIXpOK1Yz",
        "outputId": "4d64aed1-970f-4065-e814-2c9300cf6a69"
      },
      "execution_count": 3,
      "outputs": [
        {
          "output_type": "error",
          "ename": "ModuleNotFoundError",
          "evalue": "ignored",
          "traceback": [
            "\u001b[0;31m---------------------------------------------------------------------------\u001b[0m",
            "\u001b[0;31mModuleNotFoundError\u001b[0m                       Traceback (most recent call last)",
            "\u001b[0;32m<ipython-input-3-d41288fab3d5>\u001b[0m in \u001b[0;36m<cell line: 2>\u001b[0;34m()\u001b[0m\n\u001b[1;32m      1\u001b[0m \u001b[0;32mimport\u001b[0m \u001b[0mtime\u001b[0m\u001b[0;34m\u001b[0m\u001b[0;34m\u001b[0m\u001b[0m\n\u001b[0;32m----> 2\u001b[0;31m \u001b[0;32mimport\u001b[0m \u001b[0mplyer\u001b[0m\u001b[0;34m\u001b[0m\u001b[0;34m\u001b[0m\u001b[0m\n\u001b[0m",
            "\u001b[0;31mModuleNotFoundError\u001b[0m: No module named 'plyer'",
            "",
            "\u001b[0;31m---------------------------------------------------------------------------\u001b[0;32m\nNOTE: If your import is failing due to a missing package, you can\nmanually install dependencies using either !pip or !apt.\n\nTo view examples of installing some common dependencies, click the\n\"Open Examples\" button below.\n\u001b[0;31m---------------------------------------------------------------------------\u001b[0m\n"
          ],
          "errorDetails": {
            "actions": [
              {
                "action": "open_url",
                "actionText": "Open Examples",
                "url": "/notebooks/snippets/importing_libraries.ipynb"
              }
            ]
          }
        }
      ]
    },
    {
      "cell_type": "code",
      "source": [
        "pip install plyer\n"
      ],
      "metadata": {
        "colab": {
          "base_uri": "https://localhost:8080/"
        },
        "id": "RoTE8BBqLEMq",
        "outputId": "9880b044-4e83-47fb-800d-c7153218c74d"
      },
      "execution_count": 4,
      "outputs": [
        {
          "output_type": "stream",
          "name": "stdout",
          "text": [
            "Collecting plyer\n",
            "  Downloading plyer-2.1.0-py2.py3-none-any.whl (142 kB)\n",
            "\u001b[2K     \u001b[90m━━━━━━━━━━━━━━━━━━━━━━━━━━━━━━━━━━━━━━━\u001b[0m \u001b[32m142.3/142.3 kB\u001b[0m \u001b[31m2.2 MB/s\u001b[0m eta \u001b[36m0:00:00\u001b[0m\n",
            "\u001b[?25hInstalling collected packages: plyer\n",
            "Successfully installed plyer-2.1.0\n"
          ]
        }
      ]
    },
    {
      "cell_type": "code",
      "source": [
        "import time\n",
        "from plyer import notification\n"
      ],
      "metadata": {
        "id": "zdE3SPxmLKTH"
      },
      "execution_count": 5,
      "outputs": []
    },
    {
      "cell_type": "code",
      "source": [
        "notification.notify(\n",
        "    title=\"kjfd\",\n",
        "    message=\"alkfj\",\n",
        "    timeout=3\n",
        ")\n"
      ],
      "metadata": {
        "colab": {
          "base_uri": "https://localhost:8080/",
          "height": 390
        },
        "id": "wvGH3tmJLTTi",
        "outputId": "edc3357c-bd7d-413b-8818-0cae80409357"
      },
      "execution_count": 8,
      "outputs": [
        {
          "output_type": "error",
          "ename": "DBusException",
          "evalue": "ignored",
          "traceback": [
            "\u001b[0;31m---------------------------------------------------------------------------\u001b[0m",
            "\u001b[0;31mDBusException\u001b[0m                             Traceback (most recent call last)",
            "\u001b[0;32m<ipython-input-8-aa570461cb89>\u001b[0m in \u001b[0;36m<cell line: 1>\u001b[0;34m()\u001b[0m\n\u001b[0;32m----> 1\u001b[0;31m notification.notify(\n\u001b[0m\u001b[1;32m      2\u001b[0m     \u001b[0mtitle\u001b[0m\u001b[0;34m=\u001b[0m\u001b[0;34m\"kjfd\"\u001b[0m\u001b[0;34m,\u001b[0m\u001b[0;34m\u001b[0m\u001b[0;34m\u001b[0m\u001b[0m\n\u001b[1;32m      3\u001b[0m     \u001b[0mmessage\u001b[0m\u001b[0;34m=\u001b[0m\u001b[0;34m\"alkfj\"\u001b[0m\u001b[0;34m,\u001b[0m\u001b[0;34m\u001b[0m\u001b[0;34m\u001b[0m\u001b[0m\n\u001b[1;32m      4\u001b[0m     \u001b[0mtimeout\u001b[0m\u001b[0;34m=\u001b[0m\u001b[0;36m3\u001b[0m\u001b[0;34m\u001b[0m\u001b[0;34m\u001b[0m\u001b[0m\n\u001b[1;32m      5\u001b[0m )\n",
            "\u001b[0;32m/usr/local/lib/python3.10/dist-packages/plyer/facades/notification.py\u001b[0m in \u001b[0;36mnotify\u001b[0;34m(self, title, message, app_name, app_icon, timeout, ticker, toast, hints)\u001b[0m\n\u001b[1;32m     82\u001b[0m         '''\n\u001b[1;32m     83\u001b[0m \u001b[0;34m\u001b[0m\u001b[0m\n\u001b[0;32m---> 84\u001b[0;31m         self._notify(\n\u001b[0m\u001b[1;32m     85\u001b[0m             \u001b[0mtitle\u001b[0m\u001b[0;34m=\u001b[0m\u001b[0mtitle\u001b[0m\u001b[0;34m,\u001b[0m \u001b[0mmessage\u001b[0m\u001b[0;34m=\u001b[0m\u001b[0mmessage\u001b[0m\u001b[0;34m,\u001b[0m\u001b[0;34m\u001b[0m\u001b[0;34m\u001b[0m\u001b[0m\n\u001b[1;32m     86\u001b[0m             \u001b[0mapp_icon\u001b[0m\u001b[0;34m=\u001b[0m\u001b[0mapp_icon\u001b[0m\u001b[0;34m,\u001b[0m \u001b[0mapp_name\u001b[0m\u001b[0;34m=\u001b[0m\u001b[0mapp_name\u001b[0m\u001b[0;34m,\u001b[0m\u001b[0;34m\u001b[0m\u001b[0;34m\u001b[0m\u001b[0m\n",
            "\u001b[0;32m/usr/local/lib/python3.10/dist-packages/plyer/platforms/linux/notification.py\u001b[0m in \u001b[0;36m_notify\u001b[0;34m(self, **kwargs)\u001b[0m\n\u001b[1;32m     76\u001b[0m \u001b[0;34m\u001b[0m\u001b[0m\n\u001b[1;32m     77\u001b[0m         \u001b[0;32mimport\u001b[0m \u001b[0mdbus\u001b[0m\u001b[0;34m\u001b[0m\u001b[0;34m\u001b[0m\u001b[0m\n\u001b[0;32m---> 78\u001b[0;31m         \u001b[0msession_bus\u001b[0m \u001b[0;34m=\u001b[0m \u001b[0mdbus\u001b[0m\u001b[0;34m.\u001b[0m\u001b[0mSessionBus\u001b[0m\u001b[0;34m(\u001b[0m\u001b[0;34m)\u001b[0m\u001b[0;34m\u001b[0m\u001b[0;34m\u001b[0m\u001b[0m\n\u001b[0m\u001b[1;32m     79\u001b[0m         \u001b[0mobj\u001b[0m \u001b[0;34m=\u001b[0m \u001b[0msession_bus\u001b[0m\u001b[0;34m.\u001b[0m\u001b[0mget_object\u001b[0m\u001b[0;34m(\u001b[0m\u001b[0m_bus_name\u001b[0m\u001b[0;34m,\u001b[0m \u001b[0m_object_path\u001b[0m\u001b[0;34m)\u001b[0m\u001b[0;34m\u001b[0m\u001b[0;34m\u001b[0m\u001b[0m\n\u001b[1;32m     80\u001b[0m         \u001b[0minterface\u001b[0m \u001b[0;34m=\u001b[0m \u001b[0mdbus\u001b[0m\u001b[0;34m.\u001b[0m\u001b[0mInterface\u001b[0m\u001b[0;34m(\u001b[0m\u001b[0mobj\u001b[0m\u001b[0;34m,\u001b[0m \u001b[0m_interface_name\u001b[0m\u001b[0;34m)\u001b[0m\u001b[0;34m\u001b[0m\u001b[0;34m\u001b[0m\u001b[0m\n",
            "\u001b[0;32m/usr/lib/python3/dist-packages/dbus/_dbus.py\u001b[0m in \u001b[0;36m__new__\u001b[0;34m(cls, private, mainloop)\u001b[0m\n\u001b[1;32m    210\u001b[0m                 \u001b[0;32mif\u001b[0m \u001b[0mnone\u001b[0m \u001b[0mhas\u001b[0m \u001b[0mbeen\u001b[0m\u001b[0;34m.\u001b[0m\u001b[0;34m\u001b[0m\u001b[0;34m\u001b[0m\u001b[0m\n\u001b[1;32m    211\u001b[0m         \"\"\"\n\u001b[0;32m--> 212\u001b[0;31m         return Bus.__new__(cls, Bus.TYPE_SESSION, private=private,\n\u001b[0m\u001b[1;32m    213\u001b[0m                            mainloop=mainloop)\n\u001b[1;32m    214\u001b[0m \u001b[0;34m\u001b[0m\u001b[0m\n",
            "\u001b[0;32m/usr/lib/python3/dist-packages/dbus/_dbus.py\u001b[0m in \u001b[0;36m__new__\u001b[0;34m(cls, bus_type, private, mainloop)\u001b[0m\n\u001b[1;32m    100\u001b[0m             \u001b[0;32mraise\u001b[0m \u001b[0mValueError\u001b[0m\u001b[0;34m(\u001b[0m\u001b[0;34m'invalid bus_type %s'\u001b[0m \u001b[0;34m%\u001b[0m \u001b[0mbus_type\u001b[0m\u001b[0;34m)\u001b[0m\u001b[0;34m\u001b[0m\u001b[0;34m\u001b[0m\u001b[0m\n\u001b[1;32m    101\u001b[0m \u001b[0;34m\u001b[0m\u001b[0m\n\u001b[0;32m--> 102\u001b[0;31m         \u001b[0mbus\u001b[0m \u001b[0;34m=\u001b[0m \u001b[0mBusConnection\u001b[0m\u001b[0;34m.\u001b[0m\u001b[0m__new__\u001b[0m\u001b[0;34m(\u001b[0m\u001b[0msubclass\u001b[0m\u001b[0;34m,\u001b[0m \u001b[0mbus_type\u001b[0m\u001b[0;34m,\u001b[0m \u001b[0mmainloop\u001b[0m\u001b[0;34m=\u001b[0m\u001b[0mmainloop\u001b[0m\u001b[0;34m)\u001b[0m\u001b[0;34m\u001b[0m\u001b[0;34m\u001b[0m\u001b[0m\n\u001b[0m\u001b[1;32m    103\u001b[0m \u001b[0;34m\u001b[0m\u001b[0m\n\u001b[1;32m    104\u001b[0m         \u001b[0mbus\u001b[0m\u001b[0;34m.\u001b[0m\u001b[0m_bus_type\u001b[0m \u001b[0;34m=\u001b[0m \u001b[0mbus_type\u001b[0m\u001b[0;34m\u001b[0m\u001b[0;34m\u001b[0m\u001b[0m\n",
            "\u001b[0;32m/usr/lib/python3/dist-packages/dbus/bus.py\u001b[0m in \u001b[0;36m__new__\u001b[0;34m(cls, address_or_type, mainloop)\u001b[0m\n\u001b[1;32m    122\u001b[0m \u001b[0;34m\u001b[0m\u001b[0m\n\u001b[1;32m    123\u001b[0m     \u001b[0;32mdef\u001b[0m \u001b[0m__new__\u001b[0m\u001b[0;34m(\u001b[0m\u001b[0mcls\u001b[0m\u001b[0;34m,\u001b[0m \u001b[0maddress_or_type\u001b[0m\u001b[0;34m=\u001b[0m\u001b[0mTYPE_SESSION\u001b[0m\u001b[0;34m,\u001b[0m \u001b[0mmainloop\u001b[0m\u001b[0;34m=\u001b[0m\u001b[0;32mNone\u001b[0m\u001b[0;34m)\u001b[0m\u001b[0;34m:\u001b[0m\u001b[0;34m\u001b[0m\u001b[0;34m\u001b[0m\u001b[0m\n\u001b[0;32m--> 124\u001b[0;31m         \u001b[0mbus\u001b[0m \u001b[0;34m=\u001b[0m \u001b[0mcls\u001b[0m\u001b[0;34m.\u001b[0m\u001b[0m_new_for_bus\u001b[0m\u001b[0;34m(\u001b[0m\u001b[0maddress_or_type\u001b[0m\u001b[0;34m,\u001b[0m \u001b[0mmainloop\u001b[0m\u001b[0;34m=\u001b[0m\u001b[0mmainloop\u001b[0m\u001b[0;34m)\u001b[0m\u001b[0;34m\u001b[0m\u001b[0;34m\u001b[0m\u001b[0m\n\u001b[0m\u001b[1;32m    125\u001b[0m \u001b[0;34m\u001b[0m\u001b[0m\n\u001b[1;32m    126\u001b[0m         \u001b[0;31m# _bus_names is used by dbus.service.BusName!\u001b[0m\u001b[0;34m\u001b[0m\u001b[0;34m\u001b[0m\u001b[0m\n",
            "\u001b[0;31mDBusException\u001b[0m: org.freedesktop.DBus.Error.NotSupported: Unable to autolaunch a dbus-daemon without a $DISPLAY for X11"
          ]
        }
      ]
    }
  ]
}